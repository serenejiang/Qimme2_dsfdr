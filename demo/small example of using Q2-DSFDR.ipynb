{
 "cells": [
  {
   "cell_type": "markdown",
   "metadata": {},
   "source": [
    "## This notebook is show how to use Q2-DSFDR in command line interface"
   ]
  },
  {
   "cell_type": "markdown",
   "metadata": {},
   "source": [
    "## convert feature table to qiime2 qza artifact"
   ]
  },
  {
   "cell_type": "code",
   "execution_count": 1,
   "metadata": {},
   "outputs": [],
   "source": [
    "!qiime tools import \\\n",
    "--input-path ../data/deblur-feature-table.biom \\\n",
    "--type 'FeatureTable[Frequency]' \\\n",
    "--source-format BIOMV210Format \\\n",
    "--output-path ../data/dblr_haddad.qza"
   ]
  },
  {
   "cell_type": "markdown",
   "metadata": {},
   "source": [
    "## select interested category to compare using DS-FDR"
   ]
  },
  {
   "cell_type": "code",
   "execution_count": 2,
   "metadata": {},
   "outputs": [
    {
     "name": "stdout",
     "output_type": "stream",
     "text": [
      "DEBUG:Processing 740 features\n",
      "DEBUG:92 samples in group1\n",
      "DEBUG:90 samples in group2\n",
      "DEBUG:Using statistic meandiff\n",
      "DEBUG:Rejected 105 features\n",
      "\u001b[32mSaved SampleData[AlphaDiversity] to: haddad.dsfdr.qza\u001b[0m\n"
     ]
    }
   ],
   "source": [
    "!qiime dsfdr permutation-fdr \\\n",
    "--i-table ../data/dblr_haddad.qza \\\n",
    "--m-metadata-file ../data/metadata_rare2k.txt \\\n",
    "--m-metadata-column 'exposure_type' \\\n",
    "--o-reject haddad.dsfdr --verbose"
   ]
  },
  {
   "cell_type": "markdown",
   "metadata": {},
   "source": [
    "## output the list of differential abundant taxa (True indicates statistical significance)"
   ]
  },
  {
   "cell_type": "code",
   "execution_count": 7,
   "metadata": {},
   "outputs": [],
   "source": [
    "!qiime tools export haddad.dsfdr.qza --output-dir haddad.dsfdr.results"
   ]
  }
 ],
 "metadata": {
  "kernelspec": {
   "display_name": "Python 3",
   "language": "python",
   "name": "python3"
  },
  "language_info": {
   "codemirror_mode": {
    "name": "ipython",
    "version": 3
   },
   "file_extension": ".py",
   "mimetype": "text/x-python",
   "name": "python",
   "nbconvert_exporter": "python",
   "pygments_lexer": "ipython3",
   "version": "3.5.5"
  }
 },
 "nbformat": 4,
 "nbformat_minor": 2
}
